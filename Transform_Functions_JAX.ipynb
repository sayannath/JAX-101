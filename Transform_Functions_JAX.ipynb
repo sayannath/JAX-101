{
  "nbformat": 4,
  "nbformat_minor": 0,
  "metadata": {
    "colab": {
      "name": "2.Transform-Functions-JAX.ipynb",
      "provenance": [],
      "collapsed_sections": []
    },
    "kernelspec": {
      "name": "python3",
      "display_name": "Python 3"
    },
    "language_info": {
      "name": "python"
    },
    "accelerator": "GPU"
  },
  "cells": [
    {
      "cell_type": "markdown",
      "metadata": {
        "id": "OFMzIheKtAdS"
      },
      "source": [
        "# Introduction to JAX ♥ 👨‍💻 🚀\n",
        "<br>\n",
        "\n",
        "![](https://user-images.githubusercontent.com/41967348/140406260-96e6a1fe-9285-4328-8343-25895f84480c.png)\n",
        "\n",
        "<br>\n",
        "\n",
        "**Author**: [Sayan Nath](https://twitter.com/sayannath2350)"
      ]
    },
    {
      "cell_type": "markdown",
      "metadata": {
        "id": "3jfoBwtgtHN-"
      },
      "source": [
        "## Imports"
      ]
    },
    {
      "cell_type": "code",
      "metadata": {
        "id": "8Wr5JEnaspye"
      },
      "source": [
        "import numpy as np\n",
        "import jax.numpy as jnp\n",
        "\n",
        "# Import transform functions\n",
        "from jax import grad, jit, vmap, pmap\n",
        "\n",
        "from jax import lax # lax is a low level api of JAX\n",
        "from jax import make_jaxpr\n",
        "from jax import random \n",
        "from jax import device_put\n",
        "\n",
        "import matplotlib.pyplot as plt"
      ],
      "execution_count": 2,
      "outputs": []
    },
    {
      "cell_type": "markdown",
      "metadata": {
        "id": "_RIbOQYQtIdi"
      },
      "source": [
        "## `jit()` \n",
        "\n",
        "- `.jit()` compiles the functions and cache them."
      ]
    },
    {
      "cell_type": "code",
      "metadata": {
        "id": "7IcwzRUwtayj"
      },
      "source": [
        "# Util function to visualise the data-points\n",
        "def visualize_fn(fn, l=-10, r=10, n=1000):\n",
        "    x = np.linspace(l, r, num=n)\n",
        "    y = fn(x)\n",
        "    plt.plot(x, y); plt.show()"
      ],
      "execution_count": 3,
      "outputs": []
    },
    {
      "cell_type": "code",
      "metadata": {
        "id": "iwygUinouY2K",
        "colab": {
          "base_uri": "https://localhost:8080/",
          "height": 367
        },
        "outputId": "ce25cfc7-ec0c-4e88-aab8-ae3275e86323"
      },
      "source": [
        "# Define a selu activation function\n",
        "def selu(x, alpha=1.67, beta=1.05):\n",
        "    \"\"\"Reference: https://www.tensorflow.org/api_docs/python/tf/keras/activations/selu\"\"\"\n",
        "    return beta * jnp.where(x > 0, x, alpha * jnp.exp(x) - alpha)\n",
        "\n",
        "selu_jit = jit(selu) # Let's compile the function in jit\n",
        "\n",
        "# Visualize SELU\n",
        "visualize_fn(selu)\n",
        "\n",
        "SEEDS=42\n",
        "\n",
        "key = random.PRNGKey(SEEDS)\n",
        "data = random.normal(key, (1000000,))\n",
        "\n",
        "## Stress test\n",
        "print('Non-jit version')\n",
        "%timeit selu(data).block_until_ready()\n",
        "print('jit version')\n",
        "%timeit selu_jit(data).block_until_ready()"
      ],
      "execution_count": 4,
      "outputs": [
        {
          "output_type": "display_data",
          "data": {
            "image/png": "[encoded data removed]",
            "text/plain": [
              "<Figure size 432x288 with 1 Axes>"
            ]
          },
          "metadata": {
            "needs_background": "light"
          }
        },
        {
          "output_type": "stream",
          "name": "stdout",
          "text": [
            "Non-jit version\n",
            "The slowest run took 232.50 times longer than the fastest. This could mean that an intermediate result is being cached.\n",
            "1 loop, best of 5: 2.09 ms per loop\n",
            "jit version\n",
            "The slowest run took 728.59 times longer than the fastest. This could mean that an intermediate result is being cached.\n",
            "10000 loops, best of 5: 182 µs per loop\n"
          ]
        }
      ]
    },
    {
      "cell_type": "markdown",
      "metadata": {
        "id": "XigmYjoOu-1r"
      },
      "source": [
        "## `grad()` \n",
        "\n",
        "grad => differentiation\n",
        "\n",
        "Types of differentiation\n",
        "* manual\n",
        "* symbolic\n",
        "* numeric\n",
        "* automatic (Fav of all)"
      ]
    },
    {
      "cell_type": "code",
      "metadata": {
        "id": "G-rwBYDqvDo_",
        "colab": {
          "base_uri": "https://localhost:8080/"
        },
        "outputId": "f39885e2-633f-4e7f-8bca-9f12022e44c7"
      },
      "source": [
        "# First Example\n",
        "\n",
        "## Define the function\n",
        "def custom_func(x):\n",
        "    return jnp.sum(x**4) # x**4 = x^4\n",
        "\n",
        "y = jnp.arange(2.)\n",
        "print(y)\n",
        "\n",
        "# Compute the differentiation (automatic)\n",
        "grad_value = grad(custom_func) # Differentiation of x^4 is 4x^3. The custom_func returns 4*0^3 and 4*1^3 i.e 0 and 4\n",
        "\n",
        "# Evaluate the function\n",
        "print(grad_value(y))"
      ],
      "execution_count": 5,
      "outputs": [
        {
          "output_type": "stream",
          "name": "stdout",
          "text": [
            "[0. 1.]\n",
            "[0. 4.]\n"
          ]
        }
      ]
    },
    {
      "cell_type": "code",
      "source": [
        "# Second Example\n",
        "\n",
        "def finite_diff(f, x):\n",
        "    eps = 1e-3\n",
        "\n",
        "    return jnp.array([(f(x + eps * v) - f(x - eps * v)) / (2 * eps)\n",
        "                    for v in jnp.eye(len(x))])\n",
        "    \n",
        "print(finite_diff(custom_func, y))"
      ],
      "metadata": {
        "colab": {
          "base_uri": "https://localhost:8080/"
        },
        "id": "AhwqIYlcv58j",
        "outputId": "24c496a9-79be-48d9-96d1-958ca8bae271"
      },
      "execution_count": 6,
      "outputs": [
        {
          "output_type": "stream",
          "name": "stdout",
          "text": [
            "[0.        4.0000377]\n"
          ]
        }
      ]
    },
    {
      "cell_type": "code",
      "metadata": {
        "colab": {
          "base_uri": "https://localhost:8080/",
          "height": 333
        },
        "id": "rfmGqRjsA3sU",
        "outputId": "d1ea5539-bfe3-489a-8a4f-6322453aad02"
      },
      "source": [
        "# Third Example\n",
        "\n",
        "## Input\n",
        "x = 1.\n",
        "\n",
        "# Lambda function\n",
        "func = lambda x: x**3 + 2*x**2 + 3*x  # f(xy) = x^3 + 2x^2 + 3x\n",
        "visualize_fn(func, l=-1, r=2, n=1000) # Visualising the function\n",
        "\n",
        "# First order differentiation\n",
        "dfdx = grad(func) #If we want to find derrivate with respect to another variable suppose y then we need to do like this grad(func, argnums=(1)) as it takes 0 as default. \n",
        "\n",
        "# Second order differentiation\n",
        "d2fdx = grad(dfdx) # d2fdx = grad(grad(func))\n",
        "\n",
        "# Third order differentiation\n",
        "d3fdx = grad(d2fdx) # d3fdx = grad(grad(grad(func))) \n",
        "\n",
        "print(func(x))\n",
        "print(dfdx(x))\n",
        "print(d2fdx(x))\n",
        "print(d3fdx(x))"
      ],
      "execution_count": 7,
      "outputs": [
        {
          "output_type": "display_data",
          "data": {
            "image/png": "[encoded data removed]",
            "text/plain": [
              "<Figure size 432x288 with 1 Axes>"
            ]
          },
          "metadata": {
            "needs_background": "light"
          }
        },
        {
          "output_type": "stream",
          "name": "stdout",
          "text": [
            "6.0\n",
            "10.0\n",
            "10.0\n",
            "6.0\n"
          ]
        }
      ]
    },
    {
      "cell_type": "code",
      "metadata": {
        "id": "aiJgCf80FfF_",
        "colab": {
          "base_uri": "https://localhost:8080/"
        },
        "outputId": "706f1a53-1d46-4f70-da09-0651e44b8387"
      },
      "source": [
        "# Fourth Example\n",
        "\n",
        "from jax import jacfwd, jacrev\n",
        "\n",
        "f = lambda x, y: x**2 + y**2  # Paraboloid \n",
        "\n",
        "# df/dx = 2x\n",
        "# df/dy = 2y\n",
        "# J = [df/dx, df/dy]\n",
        "\n",
        "# d2f/dx = 2\n",
        "# d2f/dy = 2\n",
        "# d2f/dxdy = 0\n",
        "# d2f/dydx = 0\n",
        "# H = [[d2f/dx, d2f/dxdy], [d2f/dydx, d2f/dy]]\n",
        "\n",
        "def hessian(f):\n",
        "    return jit(jacfwd(jacrev(f, argnums=(0, 1)), argnums =(0, 1)))\n",
        "\n",
        "print(f'Jacobian = {jacrev(f, argnums=(0, 1))(1., 1.)}')\n",
        "print(f'Full Hessian = {hessian(f)(1., 1.)}')"
      ],
      "execution_count": 8,
      "outputs": [
        {
          "output_type": "stream",
          "name": "stdout",
          "text": [
            "Jacobian = (DeviceArray(2., dtype=float32), DeviceArray(2., dtype=float32))\n",
            "Full Hessian = ((DeviceArray(2., dtype=float32), DeviceArray(0., dtype=float32)), (DeviceArray(0., dtype=float32), DeviceArray(2., dtype=float32)))\n"
          ]
        }
      ]
    },
    {
      "cell_type": "code",
      "source": [
        "# Edge case |x|\n",
        "\n",
        "f = lambda x: abs(x)\n",
        "visualize_fn(f)\n",
        "\n",
        "print(f(-1), f(1))\n",
        "\n",
        "dfdx = grad(f)\n",
        "print(dfdx(0.)) "
      ],
      "metadata": {
        "colab": {
          "base_uri": "https://localhost:8080/",
          "height": 299
        },
        "id": "djUBClAVz0VT",
        "outputId": "dc827439-09c9-4bae-f4aa-2561c50f5e23"
      },
      "execution_count": 9,
      "outputs": [
        {
          "output_type": "display_data",
          "data": {
            "image/png": "[encoded data removed]",
            "text/plain": [
              "<Figure size 432x288 with 1 Axes>"
            ]
          },
          "metadata": {
            "needs_background": "light"
          }
        },
        {
          "output_type": "stream",
          "name": "stdout",
          "text": [
            "1 1\n",
            "1.0\n"
          ]
        }
      ]
    },
    {
      "cell_type": "markdown",
      "source": [
        "## `vmap()` \n",
        "\n",
        "* Write your functions as if you were dealing with a single datapoint!"
      ],
      "metadata": {
        "id": "VxRbz6QJEroI"
      }
    },
    {
      "cell_type": "code",
      "source": [
        "W = random.normal(key, (150, 100))  # e.g. weights of a linear NN layer\n",
        "batched_x = random.normal(key, (10, 100))  # e.g. a batch of 10 flattened images\n",
        "\n",
        "print(W.shape)\n",
        "print(batched_x.shape)"
      ],
      "metadata": {
        "colab": {
          "base_uri": "https://localhost:8080/"
        },
        "id": "SzHYrJaH0wKs",
        "outputId": "0ea6d9a7-5415-4783-c3a1-2962072b8d66"
      },
      "execution_count": 10,
      "outputs": [
        {
          "output_type": "stream",
          "name": "stdout",
          "text": [
            "(150, 100)\n",
            "(10, 100)\n"
          ]
        }
      ]
    },
    {
      "cell_type": "code",
      "source": [
        "def apply_matrix(x):\n",
        "    return jnp.dot(W, x)  # (150, 100) * (100, 1) -> (150, 1)\n",
        "\n",
        "def naively_batched_apply_matrix(batched_x):\n",
        "    return jnp.stack([apply_matrix(x) for x in batched_x])\n",
        "\n",
        "print('Naively batched')\n",
        "%timeit naively_batched_apply_matrix(batched_x).block_until_ready()"
      ],
      "metadata": {
        "colab": {
          "base_uri": "https://localhost:8080/"
        },
        "id": "G-ixl4kaIOn6",
        "outputId": "5b42c049-8355-4d54-b273-4f6b116bf5bb"
      },
      "execution_count": 11,
      "outputs": [
        {
          "output_type": "stream",
          "name": "stdout",
          "text": [
            "Naively batched\n",
            "The slowest run took 38.79 times longer than the fastest. This could mean that an intermediate result is being cached.\n",
            "1 loop, best of 5: 5.21 ms per loop\n"
          ]
        }
      ]
    },
    {
      "cell_type": "code",
      "source": [
        "@jit\n",
        "def batched_apply_matrix(batched_x):\n",
        "    return jnp.dot(batched_x, W.T)  # (10, 100) * (100, 150) -> (10, 150)\n",
        "\n",
        "print('Manually batched')\n",
        "%timeit batched_apply_matrix(batched_x).block_until_ready()\n",
        "\n",
        "@jit  # Note: we can arbitrarily compose JAX transforms! Here jit + vmap.\n",
        "def vmap_batched_apply_matrix(batched_x):\n",
        "    return vmap(apply_matrix)(batched_x)\n",
        "\n",
        "# Task: modify apply_matrix to have 2 inputs and use in_axes arg\n",
        "\n",
        "print('Auto-vectorized with vmap')\n",
        "%timeit vmap_batched_apply_matrix(batched_x).block_until_ready()"
      ],
      "metadata": {
        "colab": {
          "base_uri": "https://localhost:8080/"
        },
        "id": "teRBZVJ1FJJ_",
        "outputId": "b1f1545d-6bf6-4212-b277-ef87ec5e581e"
      },
      "execution_count": 12,
      "outputs": [
        {
          "output_type": "stream",
          "name": "stdout",
          "text": [
            "Manually batched\n",
            "The slowest run took 14520.67 times longer than the fastest. This could mean that an intermediate result is being cached.\n",
            "1 loop, best of 5: 106 µs per loop\n",
            "Auto-vectorized with vmap\n",
            "The slowest run took 490.78 times longer than the fastest. This could mean that an intermediate result is being cached.\n",
            "10000 loops, best of 5: 143 µs per loop\n"
          ]
        }
      ]
    },
    {
      "cell_type": "markdown",
      "source": [
        "## Thank You"
      ],
      "metadata": {
        "id": "YoXVj69QJYck"
      }
    }
  ]
}
