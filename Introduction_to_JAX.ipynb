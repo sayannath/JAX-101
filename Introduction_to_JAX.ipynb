{
  "nbformat": 4,
  "nbformat_minor": 0,
  "metadata": {
    "colab": {
      "name": "Introduction to JAX.ipynb",
      "provenance": []
    },
    "kernelspec": {
      "name": "python3",
      "display_name": "Python 3"
    },
    "language_info": {
      "name": "python"
    },
    "accelerator": "GPU"
  },
  "cells": [
    {
      "cell_type": "markdown",
      "metadata": {
        "id": "AoEKrIzt6FWR"
      },
      "source": [
        "# Introduction to JAX ♥ 👨‍💻 🚀\n",
        "<br>\n",
        "\n",
        "![](https://user-images.githubusercontent.com/41967348/140406260-96e6a1fe-9285-4328-8343-25895f84480c.png)\n",
        "\n",
        "<br>\n",
        "\n",
        "**Author**: [Sayan Nath](https://twitter.com/sayannath2350)"
      ]
    },
    {
      "cell_type": "markdown",
      "metadata": {
        "id": "ZgKEMNjZ3sC6"
      },
      "source": [
        "## Imports"
      ]
    },
    {
      "cell_type": "code",
      "metadata": {
        "id": "I2rK42hs3mg1"
      },
      "source": [
        "import numpy as np\n",
        "import jax.numpy as jnp\n",
        "\n",
        "# Import transform functions\n",
        "from jax import grad, jit, vmap, pmap\n",
        "\n",
        "from jax import lax # lax is a low level api of JAX\n",
        "from jax import make_jaxpr\n",
        "from jax import random \n",
        "from jax import device_put\n",
        "\n",
        "import matplotlib.pyplot as plt"
      ],
      "execution_count": 1,
      "outputs": []
    },
    {
      "cell_type": "markdown",
      "metadata": {
        "id": "gO9kY1tf4xJA"
      },
      "source": [
        "## Operation 1\n",
        "\n",
        "> `JAX` follow similar syntax like numpy"
      ]
    },
    {
      "cell_type": "code",
      "metadata": {
        "colab": {
          "base_uri": "https://localhost:8080/",
          "height": 282
        },
        "id": "fBhTOGmu4hyf",
        "outputId": "86b34b75-2a7d-40f1-d152-96abd11bfafb"
      },
      "source": [
        "# Numpy operation\n",
        "X = np.linspace(0, 10, 1000)\n",
        "y = 2 * np.sin(X) + np.cos(X)\n",
        "plt.plot(X, y)"
      ],
      "execution_count": 2,
      "outputs": [
        {
          "output_type": "execute_result",
          "data": {
            "text/plain": [
              "[<matplotlib.lines.Line2D at 0x7fd4105ab690>]"
            ]
          },
          "metadata": {},
          "execution_count": 2
        },
        {
          "output_type": "display_data",
          "data": {
            "image/png": "[encoded data removed]",
            "text/plain": [
              "<Figure size 432x288 with 1 Axes>"
            ]
          },
          "metadata": {
            "needs_background": "light"
          }
        }
      ]
    },
    {
      "cell_type": "code",
      "metadata": {
        "colab": {
          "base_uri": "https://localhost:8080/",
          "height": 282
        },
        "id": "sxg28Nfr5BkW",
        "outputId": "2435d4d4-6876-423c-f375-3e03b4eb5712"
      },
      "source": [
        "# JAX operation\n",
        "X = jnp.linspace(0, 10, 1000)\n",
        "y = 2 * jnp.sin(X) + jnp.cos(X)\n",
        "plt.plot(X, y)"
      ],
      "execution_count": 3,
      "outputs": [
        {
          "output_type": "execute_result",
          "data": {
            "text/plain": [
              "[<matplotlib.lines.Line2D at 0x7fd3f91c2110>]"
            ]
          },
          "metadata": {},
          "execution_count": 3
        },
        {
          "output_type": "display_data",
          "data": {
            "image/png": "[encoded data removed]",
            "text/plain": [
              "<Figure size 432x288 with 1 Axes>"
            ]
          },
          "metadata": {
            "needs_background": "light"
          }
        }
      ]
    },
    {
      "cell_type": "markdown",
      "metadata": {
        "id": "vZ2YcYtn5rTH"
      },
      "source": [
        "## Operation 2\n",
        "\n",
        "> `JAX` arrays are immutable whereas numpy arrays are."
      ]
    },
    {
      "cell_type": "code",
      "metadata": {
        "colab": {
          "base_uri": "https://localhost:8080/"
        },
        "id": "eAvnNd0l5UCm",
        "outputId": "a13dd009-e895-4276-c40f-06b270444b8b"
      },
      "source": [
        "# Numpy operation\n",
        "\n",
        "size=10\n",
        "index=2\n",
        "value=12\n",
        "\n",
        "X = np.arange(size)\n",
        "print(X)\n",
        "X[index] = value\n",
        "print(X)"
      ],
      "execution_count": 4,
      "outputs": [
        {
          "output_type": "stream",
          "name": "stdout",
          "text": [
            "[0 1 2 3 4 5 6 7 8 9]\n",
            "[ 0  1 12  3  4  5  6  7  8  9]\n"
          ]
        }
      ]
    },
    {
      "cell_type": "code",
      "metadata": {
        "colab": {
          "base_uri": "https://localhost:8080/"
        },
        "id": "kizRL-2v8nDo",
        "outputId": "b2d43620-6e9d-46f9-d9a3-5748b265c1a1"
      },
      "source": [
        "# JAX operation\n",
        "\n",
        "X = jnp.arange(size) # size=10\n",
        "print(X)\n",
        "y = X.at[index].set(value) # index=2 and value=12\n",
        "print(y)"
      ],
      "execution_count": 5,
      "outputs": [
        {
          "output_type": "stream",
          "name": "stdout",
          "text": [
            "[0 1 2 3 4 5 6 7 8 9]\n",
            "[ 0  1 12  3  4  5  6  7  8  9]\n"
          ]
        }
      ]
    },
    {
      "cell_type": "markdown",
      "metadata": {
        "id": "hzm6bkUS_TBa"
      },
      "source": [
        "## Operation 3\n",
        "\n",
        "> `JAX` handles random numbers differently. It is not stateful."
      ]
    },
    {
      "cell_type": "code",
      "metadata": {
        "colab": {
          "base_uri": "https://localhost:8080/"
        },
        "id": "39VraIxA89EI",
        "outputId": "39cf0c0d-ccbf-4023-cc4e-a518b5ebb794"
      },
      "source": [
        "SEEDS=42\n",
        "key = random.PRNGKey(SEEDS)\n",
        "\n",
        "X = random.normal(key, (5,))\n",
        "\n",
        "print('The type of X is {}.'.format(type(X)))\n",
        "print(X)"
      ],
      "execution_count": 6,
      "outputs": [
        {
          "output_type": "stream",
          "name": "stdout",
          "text": [
            "The type of X is <class 'jaxlib.xla_extension.DeviceArray'>.\n",
            "[ 0.6122652  1.1225883 -0.8544134 -0.8127325 -0.890405 ]\n"
          ]
        }
      ]
    },
    {
      "cell_type": "markdown",
      "metadata": {
        "id": "YSbUN7xfAHp4"
      },
      "source": [
        "## Operation 4\n",
        "\n",
        "> `JAX` is accelerator agnostic. Bonus point is you dont have to write different code to make it run in `GPU/TPU`"
      ]
    },
    {
      "cell_type": "code",
      "metadata": {
        "colab": {
          "base_uri": "https://localhost:8080/"
        },
        "id": "Ya2OU1aPAFAg",
        "outputId": "9b6f3755-f9f1-4ed2-c369-8226da34fd90"
      },
      "source": [
        "# Initialising the size\n",
        "size=10000\n",
        "\n",
        "# Generating 10000x10000 DeviceArray\n",
        "X_jnp = random.normal(key, (size, size), dtype=jnp.float32) # key = random.PRNGKey(SEEDS)\n",
        "\n",
        "# Generating 10000x10000 NumpyArray\n",
        "X_np = np.random.normal((size, size)).astype(np.float32)\n",
        "\n",
        "%timeit jnp.dot(X_jnp, X_jnp.T).block_until_ready() # GPU operation\n",
        "%timeit np.dot(X_np, X_np.T) # CPU operation"
      ],
      "execution_count": 7,
      "outputs": [
        {
          "output_type": "stream",
          "name": "stdout",
          "text": [
            "The slowest run took 4.25 times longer than the fastest. This could mean that an intermediate result is being cached.\n",
            "1 loop, best of 5: 846 ms per loop\n",
            "The slowest run took 122.27 times longer than the fastest. This could mean that an intermediate result is being cached.\n",
            "1000000 loops, best of 5: 1.4 µs per loop\n"
          ]
        }
      ]
    },
    {
      "cell_type": "code",
      "metadata": {
        "colab": {
          "base_uri": "https://localhost:8080/"
        },
        "id": "5QfxZvAJEIgp",
        "outputId": "94dc9fc5-352a-4bfc-d80f-98895d2ad9fa"
      },
      "source": [
        "# Put NumpyArray into GPU\n",
        "X_np_gpu = device_put(X_np)\n",
        "\n",
        "%timeit jnp.dot(X_jnp, X_jnp.T).block_until_ready() # Pure JAX operation\n",
        "%timeit jnp.dot(X_np_gpu, X_np_gpu.T).block_until_ready() # Numpy --> JAX"
      ],
      "execution_count": 10,
      "outputs": [
        {
          "output_type": "stream",
          "name": "stdout",
          "text": [
            "1 loop, best of 5: 879 ms per loop\n",
            "The slowest run took 5.88 times longer than the fastest. This could mean that an intermediate result is being cached.\n",
            "10000 loops, best of 5: 147 µs per loop\n"
          ]
        }
      ]
    },
    {
      "cell_type": "markdown",
      "metadata": {
        "id": "l0Ss18_tE3L0"
      },
      "source": [
        "`.block_until_ready()` is using asynchronous dispatch in the background."
      ]
    },
    {
      "cell_type": "markdown",
      "metadata": {
        "id": "dpyjqxiYGTyz"
      },
      "source": [
        "# Thank You"
      ]
    }
  ]
}